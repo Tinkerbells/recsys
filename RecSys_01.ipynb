{
  "cells": [
    {
      "cell_type": "markdown",
      "metadata": {
        "id": "ItlDweFe0YML"
      },
      "source": [
        "# Наивный пример формирования рекомендации"
      ]
    },
    {
      "cell_type": "markdown",
      "metadata": {
        "id": "qYGpzP9Wxyoc"
      },
      "source": [
        "Идея рекомендательных систем на основе ближайшего соседа – использовать предпочтения некоторой группы людей, похожих на данного пользователя, чтобы рекомендовать ему что-либо.\n",
        "\n",
        "У такой модели много применений:\n",
        "    \n",
        "   * рекомендация товаров интернет-магазинов\n",
        "   * рекомендация музыки или фильмов\n",
        "   * рекомендация людей/контента в социальных сетях"
      ]
    },
    {
      "cell_type": "markdown",
      "metadata": {
        "id": "qyeCkv1Yxyoh"
      },
      "source": [
        "Естественный способ получить рекомендацию о чем-либо - спросить мнение об этом у друзей или любых людей, которым нравится то же, что и вам. Эту идею можно использовать и для машины: для каждого человека алгоритм просматривает большую группу людей и ищет в ней подгруппу с похожим на данного человека вкусом. Далее создается список того, что еще нравится этим людям, а затем человеку рекомендуются предложения из этого списка. Такой алгоритм называется алгоритмом **коллаборативной фильтрации**."
      ]
    },
    {
      "cell_type": "markdown",
      "metadata": {
        "id": "Gyar1-zixyoi"
      },
      "source": [
        "**Отключаем предупреждения**\n",
        "\n",
        "Библиотека **warnings** отвечает за то, какие предупреждения (warnings) о работе будут выводиться пользователю.\n",
        "FutureWarning - предупреждения о том, как изменится работа библиотек в будущих версиях. Такие предупреждения мы будем игнорировать.\n",
        "Чтобы включить режим игнорирования, мы отбираем все предупреждения из категории FutureWarning и выбираем для них действия 'ignore'.\n",
        "Это делается вызовом функции simplefilter c задание двух атрибутов: действия action и категории предупреждений category."
      ]
    },
    {
      "cell_type": "code",
      "execution_count": null,
      "metadata": {
        "id": "ckjaZ99Bxyoj"
      },
      "outputs": [],
      "source": [
        "import warnings\n",
        "warnings.filterwarnings(\"ignore\")"
      ]
    },
    {
      "cell_type": "markdown",
      "metadata": {
        "id": "KVU_vx2kxyon"
      },
      "source": [
        "Для красивого вывода на экран сложных объектов будем использовать **pprint**"
      ]
    },
    {
      "cell_type": "code",
      "execution_count": null,
      "metadata": {
        "id": "C98_ZyD-xyoo"
      },
      "outputs": [],
      "source": [
        "import pprint\n",
        "pp = pprint.PrettyPrinter(indent=4)"
      ]
    },
    {
      "cell_type": "markdown",
      "metadata": {
        "id": "6Rcimj60xyoq"
      },
      "source": [
        "### Подготовка данных"
      ]
    },
    {
      "cell_type": "markdown",
      "metadata": {
        "id": "W1k3PWS_xyor"
      },
      "source": [
        "Чтобы хранить сразу много предпочтений для каждого человека, удобнее всего воспользоваться **вложенным словарем**.\n",
        "\n",
        "\n",
        "```python\n",
        "dict = {'key': 'value'}\n",
        "```\n",
        "\n",
        "Мы будем работать с *вложенным словарем* кинокритиков и выставленных ими оценок для небольшого набора данных о фильмах. Построим его следующим образом:\n",
        "\n",
        "1) для каждого кинокритика создаем словарь оценок фильмов в формате\n",
        "   ```python\n",
        "    scores_dict = {\n",
        "        'film_1': 'score_1',\n",
        "        'film_2': 'score_2',\n",
        "        ...\n",
        "    }\n",
        "   ```\n",
        "   \n",
        "2) создаем словарь кинокритиков, где в качестве значений будет соответствующий ему словарь оценок\n",
        "   ```python\n",
        "     critics = {\n",
        "         'name_1': 'scores_dict_1',\n",
        "         'name_2': 'scores_dict_2',\n",
        "         ...\n",
        "     }\n",
        "   ```\n",
        "   \n",
        "**Code 1:**"
      ]
    },
    {
      "cell_type": "code",
      "execution_count": null,
      "metadata": {
        "id": "rW47UBSVxyos"
      },
      "outputs": [],
      "source": [
        "# Словарь кинокритиков и выставленных ими оценок\n",
        "critics={'Lisa Rose': {'Lady in the Water': 2.5, 'Snakes on a Plane': 3.5,\n",
        " 'Just My Luck': 3.0, 'Superman Returns': 3.5, 'You, Me and Dupree': 2.5,\n",
        " 'The Night Listener': 3.0},\n",
        "'Gene Seymour': {'Lady in the Water': 3.0, 'Snakes on a Plane': 3.5,\n",
        " 'Just My Luck': 1.5, 'Superman Returns': 5.0, 'The Night Listener': 3.0,\n",
        " 'You, Me and Dupree': 3.5},\n",
        "'Michael Phillips': {'Lady in the Water': 2.5, 'Snakes on a Plane': 3.0,\n",
        " 'Superman Returns': 3.5, 'The Night Listener': 4.0},\n",
        "'Claudia Puig': {'Snakes on a Plane': 3.5, 'Just My Luck': 3.0,\n",
        " 'The Night Listener': 4.5, 'Superman Returns': 4.0,\n",
        " 'You, Me and Dupree': 2.5},\n",
        "'Mick LaSalle': {'Lady in the Water': 3.0, 'Snakes on a Plane': 4.0,\n",
        " 'Just My Luck': 2.0, 'Superman Returns': 3.0, 'The Night Listener': 3.0,\n",
        " 'You, Me and Dupree': 2.0},\n",
        "'Jack Matthews': {'Lady in the Water': 3.0, 'Snakes on a Plane': 4.0,\n",
        " 'The Night Listener': 3.0, 'Superman Returns': 5.0, 'You, Me and Dupree': 3.5},\n",
        "'Toby': {'Snakes on a Plane':4.5,'You, Me and Dupree':1.0,'Superman Returns':4.0}}"
      ]
    },
    {
      "cell_type": "code",
      "execution_count": null,
      "metadata": {
        "colab": {
          "base_uri": "https://localhost:8080/"
        },
        "id": "PeqIatl7xyov",
        "outputId": "23896fe7-5335-4831-9543-d0af8a7057ad"
      },
      "outputs": [
        {
          "output_type": "stream",
          "name": "stdout",
          "text": [
            "{   'Claudia Puig': {   'Just My Luck': 3.0,\n",
            "                        'Snakes on a Plane': 3.5,\n",
            "                        'Superman Returns': 4.0,\n",
            "                        'The Night Listener': 4.5,\n",
            "                        'You, Me and Dupree': 2.5},\n",
            "    'Gene Seymour': {   'Just My Luck': 1.5,\n",
            "                        'Lady in the Water': 3.0,\n",
            "                        'Snakes on a Plane': 3.5,\n",
            "                        'Superman Returns': 5.0,\n",
            "                        'The Night Listener': 3.0,\n",
            "                        'You, Me and Dupree': 3.5},\n",
            "    'Jack Matthews': {   'Lady in the Water': 3.0,\n",
            "                         'Snakes on a Plane': 4.0,\n",
            "                         'Superman Returns': 5.0,\n",
            "                         'The Night Listener': 3.0,\n",
            "                         'You, Me and Dupree': 3.5},\n",
            "    'Lisa Rose': {   'Just My Luck': 3.0,\n",
            "                     'Lady in the Water': 2.5,\n",
            "                     'Snakes on a Plane': 3.5,\n",
            "                     'Superman Returns': 3.5,\n",
            "                     'The Night Listener': 3.0,\n",
            "                     'You, Me and Dupree': 2.5},\n",
            "    'Michael Phillips': {   'Lady in the Water': 2.5,\n",
            "                            'Snakes on a Plane': 3.0,\n",
            "                            'Superman Returns': 3.5,\n",
            "                            'The Night Listener': 4.0},\n",
            "    'Mick LaSalle': {   'Just My Luck': 2.0,\n",
            "                        'Lady in the Water': 3.0,\n",
            "                        'Snakes on a Plane': 4.0,\n",
            "                        'Superman Returns': 3.0,\n",
            "                        'The Night Listener': 3.0,\n",
            "                        'You, Me and Dupree': 2.0},\n",
            "    'Toby': {   'Snakes on a Plane': 4.5,\n",
            "                'Superman Returns': 4.0,\n",
            "                'You, Me and Dupree': 1.0}}\n"
          ]
        }
      ],
      "source": [
        "pp.pprint(critics)"
      ]
    },
    {
      "cell_type": "code",
      "execution_count": null,
      "metadata": {
        "colab": {
          "base_uri": "https://localhost:8080/"
        },
        "id": "MmL4pN-gzSDP",
        "outputId": "7f43d388-a0a6-454f-a076-30050dd857c7"
      },
      "outputs": [
        {
          "output_type": "stream",
          "name": "stdout",
          "text": [
            "{'Lady in the Water': 2.5, 'Snakes on a Plane': 3.5, 'Just My Luck': 3.0, 'Superman Returns': 3.5, 'You, Me and Dupree': 2.5, 'The Night Listener': 3.0}\n",
            "{'Lady in the Water': 3.0, 'Snakes on a Plane': 3.5, 'Just My Luck': 1.5, 'Superman Returns': 5.0, 'The Night Listener': 3.0, 'You, Me and Dupree': 3.5}\n",
            "{'Lady in the Water': 2.5, 'Snakes on a Plane': 3.0, 'Superman Returns': 3.5, 'The Night Listener': 4.0}\n",
            "{'Snakes on a Plane': 3.5, 'Just My Luck': 3.0, 'The Night Listener': 4.5, 'Superman Returns': 4.0, 'You, Me and Dupree': 2.5}\n",
            "{'Lady in the Water': 3.0, 'Snakes on a Plane': 4.0, 'Just My Luck': 2.0, 'Superman Returns': 3.0, 'The Night Listener': 3.0, 'You, Me and Dupree': 2.0}\n",
            "{'Lady in the Water': 3.0, 'Snakes on a Plane': 4.0, 'The Night Listener': 3.0, 'Superman Returns': 5.0, 'You, Me and Dupree': 3.5}\n",
            "{'Snakes on a Plane': 4.5, 'You, Me and Dupree': 1.0, 'Superman Returns': 4.0}\n"
          ]
        }
      ],
      "source": [
        "for i in critics.keys():\n",
        "  print(critics[i])"
      ]
    },
    {
      "cell_type": "markdown",
      "metadata": {
        "id": "fhKbiEVUxyo1"
      },
      "source": [
        "**Code 2:**  \n",
        "Выведем оценки, которые выставил Toby"
      ]
    },
    {
      "cell_type": "code",
      "execution_count": null,
      "metadata": {
        "colab": {
          "base_uri": "https://localhost:8080/"
        },
        "id": "shl5uOURxyo1",
        "outputId": "b8be9a59-3b16-4e92-96fb-f42fe83b5852"
      },
      "outputs": [
        {
          "output_type": "execute_result",
          "data": {
            "text/plain": [
              "{'Snakes on a Plane': 4.5, 'You, Me and Dupree': 1.0, 'Superman Returns': 4.0}"
            ]
          },
          "metadata": {},
          "execution_count": 36
        }
      ],
      "source": [
        "critics['Toby']"
      ]
    },
    {
      "cell_type": "markdown",
      "metadata": {
        "id": "m-DbnG-Lxyo4"
      },
      "source": [
        "**Code 3:**  \n",
        "Выведем оценку критика Lisa Rose для фильма Lady in the Water"
      ]
    },
    {
      "cell_type": "code",
      "execution_count": null,
      "metadata": {
        "colab": {
          "base_uri": "https://localhost:8080/"
        },
        "id": "_e4_I81Vxyo5",
        "outputId": "65e7a12c-3cd8-4489-b466-e18275104bfd"
      },
      "outputs": [
        {
          "output_type": "execute_result",
          "data": {
            "text/plain": [
              "2.5"
            ]
          },
          "metadata": {},
          "execution_count": 37
        }
      ],
      "source": [
        "critics['Lisa Rose']['Lady in the Water']"
      ]
    },
    {
      "cell_type": "markdown",
      "metadata": {
        "id": "cf4lbaFSxyo7"
      },
      "source": [
        "### Критерий похожести"
      ]
    },
    {
      "cell_type": "markdown",
      "metadata": {
        "id": "iOgyFSQQxyo8"
      },
      "source": [
        "Как мы уже говорили, чтобы выделить подгруппу людей с похожим вкусом, необходимо как-то определить, насколько люди похожи. В нашем случае мы будем сравнивать оценки людей у одинаковых фильмов. Мы рассмотрим два способа сравнения. С помощью\n",
        "- расстояния Евклида\n",
        "- корреляции Пирсона"
      ]
    },
    {
      "cell_type": "markdown",
      "metadata": {
        "id": "88OOgKKXxyo9"
      },
      "source": [
        "**Оценка по евклидову расстоянию**"
      ]
    },
    {
      "cell_type": "markdown",
      "metadata": {
        "id": "2UhBb6NWxyo9"
      },
      "source": [
        "Евклидово расстояние для точек $x = (x_1, x_2, ... , x_n)$ и $y = (y_1, y_2, ... , y_n)$ определяется следующим образом:\n",
        "\n",
        "\\begin{equation}\n",
        "d(x, y) = \\sqrt{\\sum_{i = 1}^n (x_i - y_i)^2}\n",
        "\\end{equation}"
      ]
    },
    {
      "cell_type": "markdown",
      "metadata": {
        "id": "sPSNyHX5xypC"
      },
      "source": [
        "Для понимания расстояния Евклида рассмотрим случай, когда *n = 2*. То есть каждый объект выборки (точка) описывается двумя параметрами (координатами). $x = (x_1, x_2)$ и $y = (y_1, y_2)$. Тогда Евклидово расстояние равно расстоянию между точками на плоскости.\n",
        "\n",
        "\\begin{equation}\n",
        "d(x, y) = \\sqrt{\\sum_{i = 1}^n (x_i - y_i)^2} = \\sqrt{(x_2 - x_1)^2 + (y_2 - y_1)^2}\n",
        "\\end{equation}\n",
        "\n"
      ]
    },
    {
      "cell_type": "markdown",
      "metadata": {
        "id": "aLHAD9ECyX5A"
      },
      "source": [
        "Для вычисления квадратного корня можно воспользоваться готовой функцией **sqrt()** из библиотеки для работы с числами **math**:\n",
        "\n",
        "**Code 4:**"
      ]
    },
    {
      "cell_type": "markdown",
      "metadata": {
        "id": "z9WNha1hvmhb"
      },
      "source": [
        "**Упражнение 1**  \n",
        "Реализуем функцию для вычисления расстояния Евклида"
      ]
    },
    {
      "cell_type": "code",
      "execution_count": null,
      "metadata": {
        "id": "M8PyCnouvp-G"
      },
      "outputs": [],
      "source": [
        "from math import sqrt\n",
        "import math\n",
        "import numpy as np\n",
        "\n",
        "def compute_euclid(x, y):\n",
        "  p_1 = np.asarray(x)\n",
        "  p_2 = np.asarray(y)\n",
        "  return np.sqrt(sum((p_1 - p_2)**2) )\n",
        "\n",
        "def compute_euclid(x, y):\n",
        "  return math.dist(x,y)"
      ]
    },
    {
      "cell_type": "markdown",
      "metadata": {
        "id": "MP5fk4udxypC"
      },
      "source": [
        "Для примера вычислим расстояния Евклида для близких точек с координатам (1, 1) и (2, 1):\n",
        "\n",
        "**Code 5:**"
      ]
    },
    {
      "cell_type": "code",
      "execution_count": null,
      "metadata": {
        "colab": {
          "base_uri": "https://localhost:8080/"
        },
        "id": "1BJV1H73xypD",
        "outputId": "fc3496ef-3177-44d3-f502-edb8f7bf36b0"
      },
      "outputs": [
        {
          "output_type": "execute_result",
          "data": {
            "text/plain": [
              "1.0"
            ]
          },
          "metadata": {},
          "execution_count": 39
        }
      ],
      "source": [
        "compute_euclid([1, 1, 1], [1, 1, 2])"
      ]
    },
    {
      "cell_type": "markdown",
      "metadata": {
        "id": "QPl2ZDzSxypI"
      },
      "source": [
        "Теперь вычислим расстояния Евклида для точек, которые находятся далеко (1, 1) и (8, 10):\n",
        "\n",
        "**Code 6:**"
      ]
    },
    {
      "cell_type": "code",
      "execution_count": null,
      "metadata": {
        "colab": {
          "base_uri": "https://localhost:8080/"
        },
        "id": "oS5NfMNHxypJ",
        "outputId": "e80f0f1d-a3cc-455c-a942-15746ffd6a39"
      },
      "outputs": [
        {
          "output_type": "execute_result",
          "data": {
            "text/plain": [
              "11.40175425099138"
            ]
          },
          "metadata": {},
          "execution_count": 40
        }
      ],
      "source": [
        "compute_euclid([1, 1], [8, 10])"
      ]
    },
    {
      "cell_type": "markdown",
      "metadata": {
        "id": "AZkWMa__xypL"
      },
      "source": [
        "Расстояние, вычисленное по этой формуле, будет тем меньше, чем больше сходство людей (чем ближе точки). Нам же нужна функция, значение которой будет, наоборот, большое, если люди сильно похожи друг на друга. То есть схожесть больше (от 0 до 1), если точки ближе друг другу\n",
        "\n",
        "\n",
        "Для этого будем использовать функцию \"похожести\" в таком виде:\n",
        "\n",
        "\\begin{equation}\n",
        "\\text{similarity }(x, y) = \\dfrac{1}{1 + d(x, y)},\n",
        "\\end{equation}\n",
        "\n",
        "где $d(x, y)$ - расстояние Евклида."
      ]
    },
    {
      "cell_type": "markdown",
      "metadata": {
        "id": "S0BcscxQxypM"
      },
      "source": [
        "Пример вычисления сходства по новой функции для точек с координатами (1, 1) и (2, 3):\n",
        "\n",
        "**Code 7:**"
      ]
    },
    {
      "cell_type": "code",
      "execution_count": null,
      "metadata": {
        "colab": {
          "base_uri": "https://localhost:8080/"
        },
        "id": "NthnN2f3xypN",
        "outputId": "29f81ff6-b67d-4f6e-b656-dd6fce5fc6d4"
      },
      "outputs": [
        {
          "output_type": "execute_result",
          "data": {
            "text/plain": [
              "0.3090169943749474"
            ]
          },
          "metadata": {},
          "execution_count": 41
        }
      ],
      "source": [
        "1 / (1 + compute_euclid([1, 1], [2, 3]))"
      ]
    },
    {
      "cell_type": "markdown",
      "metadata": {
        "id": "1FTeBZ00xypQ"
      },
      "source": [
        "Пример вычисления сходства по новой функции для точек с координатами (1, 1) и (8, 10):\n",
        "\n",
        "**Code 8:**"
      ]
    },
    {
      "cell_type": "code",
      "execution_count": null,
      "metadata": {
        "colab": {
          "base_uri": "https://localhost:8080/"
        },
        "id": "UODSjEYaxypQ",
        "outputId": "a9dd2b58-eee0-4cf7-ba8f-0af7f65e7e94"
      },
      "outputs": [
        {
          "output_type": "execute_result",
          "data": {
            "text/plain": [
              "0.08063375388365411"
            ]
          },
          "metadata": {},
          "execution_count": 42
        }
      ],
      "source": [
        "1 / (1 + compute_euclid([1, 1], [8, 10]))"
      ]
    },
    {
      "cell_type": "markdown",
      "metadata": {
        "id": "KxSbdwfTxypT"
      },
      "source": [
        "Далее реализуем несколько простых функций для коллаборативной фильтрации на основе ближайшего соседа.\n",
        "\n",
        "**Code 9:**\n",
        "\n",
        "**Упражнение 2.** Получить список фильмов, оцененных обоими"
      ]
    },
    {
      "cell_type": "code",
      "execution_count": null,
      "metadata": {
        "id": "nndrawDG2ni7"
      },
      "outputs": [],
      "source": [
        "def similar_films(critics_dict, person1, person2):\n",
        "    # создаем пустой список фильмов с названием\n",
        "    sim_film = []\n",
        "    # для всех фильмов у person1, если такой фильм оценивался person 2, добавляем этот фильм в список sim_film\n",
        "    films_person_1 = critics_dict[person1]\n",
        "    films_person_2 = critics_dict[person2]\n",
        "    for film in films_person_1:\n",
        "      if film in films_person_2.keys():\n",
        "        sim_film.append(film)\n",
        "\n",
        "    return sim_film"
      ]
    },
    {
      "cell_type": "markdown",
      "metadata": {
        "id": "QHfiH9dTxypX"
      },
      "source": [
        "Сначала реализуем функцию для подсчета сходства двух критиков на основе расстояния Евклида. Назовём функцию  **sim_distance()**. Функция будет использовать функцию **similar_films()** и принимать на вход три аргумента:\n",
        "* словарь критиков\n",
        "* имя первого критика для сравнения\n",
        "* имя второго критика для сравнения\n",
        "\n",
        "**Упражнение 3**. Подсчет сходства двух критиков на основе расстояния Евклида"
      ]
    },
    {
      "cell_type": "code",
      "execution_count": null,
      "metadata": {
        "id": "6I2lAkfV3DLb"
      },
      "outputs": [],
      "source": [
        "def sim_distance(critics_dict, person1, person2):\n",
        "    # используем написанную функцию для получения фильмов, оцененных обоими критиками\n",
        "    sim_films = similar_films(critics_dict, person1, person2)\n",
        "\n",
        "    # если нет ни одной общей оценки, то есть длина sim_film равна 0 - вернуть 0\n",
        "    if len(sim_films) == 0:\n",
        "        return 0\n",
        "\n",
        "    # посчитаем евклидово расстояние между критиками по фильмам из sim_films\n",
        "\n",
        "    # посчитаем похожесть score\n",
        "\n",
        "    films_person_1 = critics_dict[person1]\n",
        "    films_person_2 = critics_dict[person2]\n",
        "\n",
        "    score_person_1 = [films_person_1[film] for film in sim_films]\n",
        "    score_person_2 = [films_person_2[film] for film in sim_films]\n",
        "    dist = math.dist(score_person_1, score_person_2)\n",
        "    score = 1 / (1 + dist)\n",
        "\n",
        "    return score"
      ]
    },
    {
      "cell_type": "markdown",
      "metadata": {
        "id": "ravKDWOaxypY"
      },
      "source": [
        "Посмотрим, как работает эта функция для двух критиков Lisa Rose и Toby:\n",
        "\n",
        "**Code 10:**"
      ]
    },
    {
      "cell_type": "code",
      "execution_count": null,
      "metadata": {
        "colab": {
          "base_uri": "https://localhost:8080/"
        },
        "id": "Dol4H8AgxypZ",
        "outputId": "8f89289c-9a66-4c6e-afb7-67127b3efd86"
      },
      "outputs": [
        {
          "output_type": "execute_result",
          "data": {
            "text/plain": [
              "0.3483314773547883"
            ]
          },
          "metadata": {},
          "execution_count": 45
        }
      ],
      "source": [
        "sim_distance(critics, 'Lisa Rose', 'Toby')"
      ]
    },
    {
      "cell_type": "markdown",
      "metadata": {
        "id": "WCtW_24Sxype"
      },
      "source": [
        "Эта функция работает также как:\n",
        "\n",
        "\\begin{equation}\n",
        "\\text{similarity }(x, y) = \\dfrac{1}{1 + d(x, y)},\n",
        "\\end{equation}\n",
        "\n",
        "где $d(x, y)$ - расстояние Евклида.\n",
        "\n",
        "Однако, по осям будет фильмы и оценки от критиков. Если у критиков нет одинаковых фильмов, то мы этих критиков не рассматриваем"
      ]
    },
    {
      "cell_type": "markdown",
      "metadata": {
        "id": "nMyTUfCbxypf"
      },
      "source": [
        "**Коэффициент корреляции Пирсона**"
      ]
    },
    {
      "cell_type": "markdown",
      "metadata": {
        "id": "0Bq9JuCExypg"
      },
      "source": [
        "Другой способ определять степень схожести - использовать коэффициент корреляции Пирсона. Этот коэффициент показывает, насколько два набора данных хорошо ложатся на прямую."
      ]
    },
    {
      "cell_type": "markdown",
      "metadata": {
        "id": "LRepT7krxypi"
      },
      "source": [
        "Два кинокритика со средним значением корреляции 0.41 (слева) и два кинокритика с высоким значением корреляции 0.75 (справа).  "
      ]
    },
    {
      "cell_type": "markdown",
      "metadata": {
        "id": "uKzTDyNcxypj"
      },
      "source": [
        "Корреляция Пирсона считается по формуле:\n",
        "    \n",
        "\\begin{equation}\n",
        "    \\text{corr}(x, y) = \\dfrac{\\sum_{i = 1}^n (x_i - \\frac{\\sum_{j = 1}^n x_j}{n}) (y_i - \\frac{\\sum_{j = 1}^n y_j}{n})}{\\sqrt{\\sum_{i = 1}^n (x_i - \\frac{\\sum_{j = 1}^n x_j}{n})^2 \\sum_{i = 1}^n (y_i - \\frac{\\sum_{j = 1}^n y_j}{n})^2}}\n",
        "\\end{equation}"
      ]
    },
    {
      "cell_type": "markdown",
      "metadata": {
        "id": "p3E7vXwAxypj"
      },
      "source": [
        "По аналогии с функцией **sim_distance()** реализуйте функцию для подсчета сходства двух критиков на основе корреляции Пирсона. Назовём её  **sim_pearson()**. Функция принимает на вход те же самые аргументы, что и **sim_distance()**:\n",
        "* словарь критиков\n",
        "* имя первого критика для сравнения\n",
        "* имя второго критика для сравнения"
      ]
    },
    {
      "cell_type": "markdown",
      "metadata": {
        "collapsed": true,
        "id": "xsZWvacrxypk"
      },
      "source": [
        "Посмотрим, как работает эта функция для двух критиков Lisa Rose и Gene Seymour:\n",
        "\n",
        "**Code 11:**  \n",
        "**Упражнение 4.** Допишите функцию для вычисления корреляции Пирсона"
      ]
    },
    {
      "cell_type": "code",
      "execution_count": null,
      "metadata": {
        "id": "XBZxMyLAv7OU"
      },
      "outputs": [],
      "source": [
        "def pearson_corr(x, y):\n",
        "  p_1 = np.asarray(x)\n",
        "  p_2 = np.asarray(y)\n",
        "  cov = np.sum(\n",
        "      (p_1 - np.mean(p_1))*(p_2 - np.mean(p_2))\n",
        "      )\n",
        "  sigma_1 = np.std(p_1, ddof=1)\n",
        "  sigma_2 = np.std(p_2, ddof=1)\n",
        "\n",
        "  return cov / (sigma_1 * sigma_2*(len(p_1) - 1))"
      ]
    },
    {
      "cell_type": "markdown",
      "metadata": {
        "id": "JU0cGdvTwFaX"
      },
      "source": [
        "Это та же функция, но из библиотеки"
      ]
    },
    {
      "cell_type": "code",
      "execution_count": null,
      "metadata": {
        "id": "6Ft0Zetd6h0-"
      },
      "outputs": [],
      "source": [
        "from scipy.stats import pearsonr\n",
        "\n",
        "\n",
        "x = [1,2,3,4]\n",
        "y = [4,5,6,3]\n",
        "\n",
        "assert pearsonr(x, y)[0] == pearson_corr(x, y), \"Что-то не так\""
      ]
    },
    {
      "cell_type": "markdown",
      "metadata": {
        "id": "YpjrJhBx5GJs"
      },
      "source": [
        "**Упражнение 5.** Допишите функцию **sim_pearson()**"
      ]
    },
    {
      "cell_type": "code",
      "execution_count": null,
      "metadata": {
        "id": "ZbFTAxd35FMT"
      },
      "outputs": [],
      "source": [
        "# Возвращает коэффициент корреляции Пирсона между person1 и person2\n",
        "def sim_pearson(critics_dict, person1, person2):\n",
        "    from math import isnan # это нам пригодиться для обработки деления на 0\n",
        "\n",
        "    # получить список фильмов, оцененных обоими критиками\n",
        "    sim_films = similar_films(critics_dict, person1, person2)\n",
        "\n",
        "    ## your code here\n",
        "\n",
        "    films_person_1 = critics_dict[person1]\n",
        "    films_person_2 = critics_dict[person2]\n",
        "\n",
        "    score_person_1 = [films_person_1[film] for film in sim_films]\n",
        "    score_person_2 = [films_person_2[film] for film in sim_films]\n",
        "    r = pearsonr(score_person_1, score_person_2)[0]\n",
        "\n",
        "    ## end of your code\n",
        "\n",
        "    # если вдруг было деление на ноль и функция вернула nan, то присваиваем ноль\n",
        "    if isnan(r):\n",
        "        r = 0\n",
        "    return r"
      ]
    },
    {
      "cell_type": "code",
      "execution_count": null,
      "metadata": {
        "colab": {
          "base_uri": "https://localhost:8080/"
        },
        "id": "V4quusN2xypl",
        "outputId": "e3606418-5b04-4699-d0b8-92874afdcf06"
      },
      "outputs": [
        {
          "output_type": "execute_result",
          "data": {
            "text/plain": [
              "0.3960590171906697"
            ]
          },
          "metadata": {},
          "execution_count": 49
        }
      ],
      "source": [
        "sim_pearson(critics, 'Lisa Rose', 'Gene Seymour')"
      ]
    },
    {
      "cell_type": "markdown",
      "metadata": {
        "id": "llNUr_9xxypo"
      },
      "source": [
        "### Ранжирование критиков"
      ]
    },
    {
      "cell_type": "markdown",
      "metadata": {
        "id": "9GHarQp1xypp"
      },
      "source": [
        "После того как мы выбрали критерий для сравнения двух людей, можно начать искать для каждого человека подгруппу других людей с наиболее похожими вкусами.\n",
        "\n",
        "Для этого реализуем функцию **topMatches()**. Функция будет возвращать список n наилучших соответствий для человека из словаря `critics`.\n",
        "\n",
        "Соответственно, аргументы у функции:\n",
        "* словарь критиков *critics\\_dict*\n",
        "* имя персоны *person*, для которой подбираем соответствия\n",
        "* число *n* наилучших соответствий\n",
        "\n",
        "Кроме этого, так как мы хотим использовать различные расстояния, то в качестве аргумента мы будем также передавать имя функции-расстояния (*similarity*).  "
      ]
    },
    {
      "cell_type": "markdown",
      "metadata": {
        "id": "IICRst0Mxypp"
      },
      "source": [
        "\n",
        "**Code 12:**"
      ]
    },
    {
      "cell_type": "markdown",
      "metadata": {
        "id": "l11l0LBWxyps"
      },
      "source": [
        "Как работает эта функция:\n",
        "*  считаем схожесть интересующего нас критика с каждым другим критиком используя функцию **similarity**\n",
        "*  сортируем результаты\n",
        "*  возвращаем топ **n** результатов\n",
        "\n",
        "\n",
        "**Упражнение 6**. Напишите функцию, которая возвращает топ-n наиболее похожих на person человек из critics_dict"
      ]
    },
    {
      "cell_type": "code",
      "execution_count": null,
      "metadata": {
        "id": "c7_ewZCi7RYs"
      },
      "outputs": [],
      "source": [
        "def topMatches(critics_dict, person, n=5, similarity=sim_pearson):\n",
        "    critics_dict = critics_dict.copy()\n",
        "    critics_dict_all = critics_dict.copy()\n",
        "    del critics_dict[person]\n",
        "\n",
        "    scores = {}\n",
        "    for name in critics_dict:\n",
        "      score = similarity(critics_dict_all, name, person)\n",
        "      scores[name] = score\n",
        "\n",
        "    scores = dict(sorted(scores.items(), reverse=True, key=lambda x: x[1]))\n",
        "    return list(scores.keys())[:n]\n",
        "\n",
        "\n",
        "    # инициализируем лист оценок похожести\n",
        "    # для каждого человека в словаре критиков, если этот человек не тот, для которого мы подбираем соответствия\n",
        "    # добавить в scores похожесть, вычисленную с помощью функции, записанной в similarity, и имя человека\n",
        "    # отсортировать список по убыванию оценок\n",
        "    # возвращаем первые n человек"
      ]
    },
    {
      "cell_type": "markdown",
      "metadata": {
        "id": "a6zrN8IRxypt"
      },
      "source": [
        "**Code 13:**  \n",
        "**Упражнение 7.** Вычислите топ-3 критиков похожих на Toby по евклидову расстоянию и по корреляции Пирсона. Они отличаются?"
      ]
    },
    {
      "cell_type": "code",
      "execution_count": null,
      "metadata": {
        "colab": {
          "base_uri": "https://localhost:8080/"
        },
        "id": "11i6fgTsA3wq",
        "outputId": "8c09c7d3-cc26-4dbb-bddf-e477c09bf801"
      },
      "outputs": [
        {
          "output_type": "execute_result",
          "data": {
            "text/plain": [
              "['Mick LaSalle', 'Michael Phillips', 'Claudia Puig']"
            ]
          },
          "metadata": {},
          "execution_count": 51
        }
      ],
      "source": [
        "topMatches(critics, 'Toby', 3, similarity=sim_distance)"
      ]
    },
    {
      "cell_type": "code",
      "execution_count": null,
      "metadata": {
        "colab": {
          "base_uri": "https://localhost:8080/"
        },
        "id": "63IHuLZSxypu",
        "outputId": "fae22327-855d-425a-f57c-b692774dfdd5"
      },
      "outputs": [
        {
          "output_type": "execute_result",
          "data": {
            "text/plain": [
              "['Lisa Rose', 'Mick LaSalle', 'Claudia Puig']"
            ]
          },
          "metadata": {},
          "execution_count": 52
        }
      ],
      "source": [
        "topMatches(critics, 'Toby', 3, similarity=sim_pearson)"
      ]
    },
    {
      "cell_type": "markdown",
      "metadata": {
        "id": "URl_dDLVDlRm"
      },
      "source": [
        "Они различны, поскольку корреляция показывает линейнозависимость векторов, а Евклидово расстояние просто показывает расстояние между объектами. Если мы хотим делать задачу рекомендаций, то корреляция Пирсона здесь подходит лучше"
      ]
    },
    {
      "cell_type": "markdown",
      "metadata": {
        "id": "UnsodNg7xypw"
      },
      "source": [
        "Выбор расстояния для подбора похожести зависит от конкретной задачи. Имеет смысл попробовать разные критерии и посмотреть, какой из них дает наилучший результат."
      ]
    },
    {
      "cell_type": "markdown",
      "metadata": {
        "id": "C4Ok7gk1xypx"
      },
      "source": [
        "## Рекомендация фильмов (User-based подход)"
      ]
    },
    {
      "cell_type": "markdown",
      "metadata": {
        "id": "oigqx0dDxypy"
      },
      "source": [
        "Мы умеем находить людей с похожим мнением как у рассматриваемого человека. Но как получить конкретную рекомендацию с набором фильмов? Можно было бы просто посмотреть на то, какие фильмы понравились похожему человеку, и выбрать из них не просмотренные. Однако, такой способ не стабилен: можем, например, отобрать критика, которому по каким-то причинам понравился фильм, получивший негативные оценки от остальных.\n",
        "\n",
        "Чтобы разрешить эту проблему, можно ранжировать сами фильмы, вычисляя взвешенную сумму оценок критиков. Мы будем брать оценку фильма у критика и умножать его на коэффициент похожести с тем, для которого мы строим рекомендацию. Затем полученный результат суммировать и нормировать.  \n",
        "\n",
        "Идея такого подхода в том, что люди похожие на тебя вносят больший вклад в \"рейтинг\" фильма."
      ]
    },
    {
      "cell_type": "markdown",
      "metadata": {
        "id": "CYT3JXArxypz"
      },
      "source": [
        "Давайте реализуем этот подход в функции **getRecommendations()**. Функция принимает на вход следующие аргументы:\n",
        "* словарь критиков *critics\\_dict*\n",
        "* имя персоны *person*, для которой подбираем соответствия\n",
        "* имя функции-критерия для сравнения\n"
      ]
    },
    {
      "cell_type": "markdown",
      "metadata": {
        "id": "HBxow-45xyp8"
      },
      "source": [
        "Как работает эта функция:\n",
        "*  считаем схожесть пользователя с каждым другим пользователем\n",
        "*  перебираем фильмы, которые смотрели другие пользователи, но не смотрел текущий пользователь\n",
        "*  нормируем рейтинг фильмов на основе того насколько он понравился другим пользователям, и того насколько каждый из других пользователей похож на текущего пользователя\n",
        "*  сортируем список\n",
        "\n",
        "**Code 14:**"
      ]
    },
    {
      "cell_type": "code",
      "source": [
        "def getRecommendations(critics_dict, person, similarity=sim_pearson):\n",
        "    critics_dict_all = critics_dict.copy()\n",
        "    critics_dict = critics_dict.copy()\n",
        "    films_person = critics_dict_all[person]\n",
        "\n",
        "    del critics_dict[person]\n",
        "\n",
        "    similar_people = topMatches(critics_dict_all, person, 100, similarity)\n",
        "\n",
        "    coef = {name: similarity(critics_dict_all, name, person) for name in similar_people}\n",
        "\n",
        "    films = set()\n",
        "    for name in similar_people:\n",
        "        films.update(critics_dict_all[name].keys())\n",
        "\n",
        "    films = [film for film in films if film not in films_person]\n",
        "\n",
        "    recomend_film = {}\n",
        "\n",
        "    for film in films:\n",
        "        weighted_scores = 0.0\n",
        "        total_similarity = 0.0\n",
        "\n",
        "        for name in similar_people:\n",
        "            if film in critics_dict_all[name]:\n",
        "                score = critics_dict_all[name][film]\n",
        "                weighted_scores += score * coef[name]\n",
        "                total_similarity += coef[name]\n",
        "\n",
        "        if total_similarity > 0:\n",
        "            recomend_film[film] = weighted_scores / total_similarity\n",
        "\n",
        "    recomend_film = dict(sorted(recomend_film.items(), reverse=True, key=lambda x: x[1]))\n",
        "    return recomend_film"
      ],
      "metadata": {
        "id": "DaE-gPPo9B6w"
      },
      "execution_count": null,
      "outputs": []
    },
    {
      "cell_type": "markdown",
      "metadata": {
        "id": "pR4A_2uLxyp9"
      },
      "source": [
        "**Code 15:**"
      ]
    },
    {
      "cell_type": "code",
      "execution_count": null,
      "metadata": {
        "colab": {
          "base_uri": "https://localhost:8080/"
        },
        "id": "QwaMWa2KOZAh",
        "outputId": "67313128-6a5d-4895-aa9c-d69f5ca921ca"
      },
      "outputs": [
        {
          "output_type": "execute_result",
          "data": {
            "text/plain": [
              "{'The Night Listener': 3.119201586785551,\n",
              " 'Lady in the Water': 3.002234730607126,\n",
              " 'Just My Luck': 2.5309807037655645}"
            ]
          },
          "metadata": {},
          "execution_count": 54
        }
      ],
      "source": [
        "getRecommendations(critics,'Toby', sim_pearson)"
      ]
    },
    {
      "cell_type": "code",
      "source": [
        "getRecommendations(critics,'Toby', sim_distance)"
      ],
      "metadata": {
        "colab": {
          "base_uri": "https://localhost:8080/"
        },
        "id": "XaJXTsRiYrBO",
        "outputId": "e91e707f-2e6a-4901-d5b3-9b000146226d"
      },
      "execution_count": null,
      "outputs": [
        {
          "output_type": "execute_result",
          "data": {
            "text/plain": [
              "{'The Night Listener': 3.457128694491423,\n",
              " 'Lady in the Water': 2.778584003814924,\n",
              " 'Just My Luck': 2.4224820423619167}"
            ]
          },
          "metadata": {},
          "execution_count": 30
        }
      ]
    },
    {
      "cell_type": "markdown",
      "metadata": {
        "id": "O4HGFTxnxyqA"
      },
      "source": [
        "Мы получили ранжированный список фильмов, а также прогноз оценки, которую поставит Toby этим фильмам."
      ]
    },
    {
      "cell_type": "markdown",
      "metadata": {
        "id": "QZ2AV3PIxyqT"
      },
      "source": [
        "## Метрики качества для рекомендательных систем"
      ]
    },
    {
      "cell_type": "markdown",
      "metadata": {
        "id": "r-pJHrR56MoH"
      },
      "source": [
        "### Качество рекомендаций"
      ]
    },
    {
      "cell_type": "markdown",
      "metadata": {
        "id": "6Uup3eDO6P0Y"
      },
      "source": [
        "Тестирование рекомендательной системы — процесс непростой и всегда вызывающий множество вопросов, главным образом из-за неоднозначности самого понятия «качество рекомендации».\n",
        "\n",
        "Вообще, в задачах машинного обучения есть два основных подхода к тестированию:\n",
        "\n",
        "* offline тестирование модели на исторических данных с помощью тестов по историческим данным,\n",
        "* тестирование готовой модели с помощью A/B тестирования (запускаем несколько вариантов, смотрим какой дает лучший результат).\n",
        "\n",
        "Оба этих подхода активно применяются при разработке рекомендательных систем. Начнем с offline тестирования.\n",
        "\n",
        "Основное ограничение, с которым приходится сталкиваться — оценить точность прогноза мы можем только на тех товарах, которые пользователь уже оценил.\n",
        "\n",
        "Стандартный подход — это кросс-валидация методами leave-one-out и k-fold. Многократное повторение теста с усреднением результатов позволяет получить более устойчивую оценку качества.\n",
        "\n",
        "leave-one-out — модель обучается на всех оцененных пользователем объектах, кроме одного, а тестируется на этом одном объекте. Так делается для всех n объектов, и среди полученных n оценок качества вычисляется среднее.\n",
        "k-fold — выборка разбивается на k блоков одинакового размера, обучение запускается k раз так, чтобы каждый блок по одному разу попал в test и k-1 раз в train.\n",
        "\n",
        "Все метрики качества можно условно разделить на три категории:\n",
        "* Prediction Accuracy — оценивают точность предсказываемого рейтинга (похожи на метрики регрессии),\n",
        "* Decision support — оценивают релевантность рекомендаций (похожи на метрики классификации),\n",
        "* Rank Accuracy метрики — оценивают качество ранжирования выдаваемых рекомендаций.\n",
        "\n",
        "Когда рейтинги оцениваются по непрерывной шкале (0-10), как правило, достаточно метрик класса Prediction Accuracy.\n",
        "\n",
        "Формула для средней квадратичной ошибки:\n",
        "\n",
        "$$MSE =  \\frac{1}{\\ell} \\sum\\limits_{i=1}^\\ell (\\hat y^{(i)}  - y^{(i)})^2 $$\n",
        "$\\ell$ -количество объектов.\n",
        "\n",
        "$$RMSE = \\sqrt {MSE}$$\n",
        "\n",
        "Формула для абсолютной средней ошибке:\n",
        "$$MAE =  \\frac{1}{\\ell} \\sum\\limits_{i=1}^\\ell |\\hat y^{(i)}  - y^{(i)}| $$\n"
      ]
    },
    {
      "cell_type": "markdown",
      "metadata": {
        "id": "VmvMAZYSxiBl"
      },
      "source": [
        "Метрики класса Decision Support работают с бинарными данными (0 и 1, да и нет). Если в нашей задаче рейтинги изначально откладываются по непрерывной шкале, их можно перевести в бинарный формат, применив решающее правило — скажем, если оценка меньше 3.5, считаем оценку «плохой», а если больше, то «хорошей»."
      ]
    },
    {
      "cell_type": "markdown",
      "metadata": {
        "id": "sUDcmu1lzZNW"
      },
      "source": [
        "**Таблица сопряжённости** (матрица неточности, или Confusion matrix) содержит сводные показатели качества работы классификатора. **Строки** этой таблицы соответствуют **фактическим классам** тестового набора, а **столбцы** - **предсказанным** классификатором меткам.\n",
        "\n",
        "Таблица содержит четыре сводных показателя, каждый из которых отражает количество объектов в одной и четырех\n",
        "категорий:\n",
        "* **истинно позитивный** (*True positive*, **TP**) -- объект\n",
        "класса `1` был верно помечен меткой `1`;\n",
        "* **ложно позитивный** (*False positive*, **FP**) -- объект\n",
        "фактически принадлежит классу `0`, но помечен меткой `1`;\n",
        "* **истинно отрицательный** (*True negative*, **TN**) -- классификатор\n",
        "верно определил, что объект класса `0` принадлежит классу `0`;\n",
        "* **ложно отрицательный** (*False negative*, **FN**) -- классификатор\n",
        "пометил объект меткой `0`, однако на самом деле объект принадлежит классу `1`.\n",
        "\n",
        "Метрики:\n",
        "\n",
        "*  $Precision = \\frac{TP}{TP + FP}$, доля рекомендаций, понравившихся пользователю.\n",
        "*  $Recall = \\frac{TP}{TP + FN}$, доля интересных пользователю товаров, которая показана."
      ]
    },
    {
      "cell_type": "markdown",
      "metadata": {
        "id": "wL_QGILa07Pv"
      },
      "source": [
        "Как правило, рекомендации выводятся списком из нескольких позиций (сначала топовая, затем в порядке убывания приоритета). Метрики класса Rank Accuracy измеряют насколько правилен порядок показа рекомендаций в отсортированном списке."
      ]
    },
    {
      "cell_type": "markdown",
      "metadata": {
        "id": "u5XtMTxx3tio"
      },
      "source": [
        "Промежуточное положение между классами Decision Support и  Decision Support занимают метрики:"
      ]
    },
    {
      "cell_type": "markdown",
      "metadata": {
        "id": "cwXYa_0F0hWK"
      },
      "source": [
        "* $Precision@k$ - метрика Precision, посчитанная на Top-k записях\n",
        "* $Recall@k$ - метрика Recall, посчитанная на Top-k записях\n",
        "* $AverageP$ - среднее значение Precision на всем списке рекомендаций"
      ]
    },
    {
      "cell_type": "markdown",
      "metadata": {
        "id": "6Bpz2Hh_4QrF"
      },
      "source": [
        "$$ Precision@k = \\frac {1}{k} \\sum^k_{i=1} Relevance@i$$\n",
        "\n",
        "$Relevance$ здесь принимает значения 0 (рекомендация хорошая) или 1 (рекомендация плохая).\n",
        "\n",
        "Модифицированная метрика: средняя точность (англ. average precision):\n",
        "\n",
        "$$ AP@k = \\frac {\\sum^k_{i=1} (Relevance@i * Precision@i)}{\\sum^k_{i=1} Relevance@i}$$\n",
        "\n",
        "Очень часто в качестве метрик качества рекомендаций  используют $MAP@k$, которая является усреднением $AP@k$\n",
        "\n",
        "$$ MAP@k = \\frac {1}{|Users|} \\sum_{u} AP@k(u) $$"
      ]
    },
    {
      "cell_type": "markdown",
      "metadata": {
        "id": "5Nr6li4h7Whb"
      },
      "source": [
        "В случае, когда оценки релевантности могут быть вещественными (в этом смысле будем обозначать не relevance, а rating), используется другой подход к измерению качества ранжирования — дисконтированный совокупный доход (англ. discounted cumulative gain) или DCG.\n",
        "\n",
        "$$ DCG@k = \\sum^k_{i=1} \\frac {2^{Rating@i}-1}{\\log {(i+1)}} $$\n",
        "\n",
        "Знаменатель зависит от позиции рекомендации, он штрафует за то, где она находится. Если рекомендация очень релевантна (высокий рейтинг), но занимает низкую позицию, то штраф будет большим. Эта метрика достигает максимума, если все релевантные рекомендации находятся в топе списка, причём отсортированные по значению рейтинга. Данную метрику принято нормировать (После нормировки метрика принимает значения от 0 до 1).\n",
        "\n",
        "$$ nDCG@k =  \\frac {DCG@k}{max(DCG@k)} $$\n",
        "\n",
        "$max(DCG@k)$ - значение DCG при идеальном ранжировании."
      ]
    },
    {
      "cell_type": "markdown",
      "metadata": {
        "id": "IcL3LcjI_E5v"
      },
      "source": [
        "https://github.com/statisticianinstilettos/recmetrics - библиотека с метриками для рекомендаций"
      ]
    },
    {
      "cell_type": "markdown",
      "metadata": {
        "id": "oorCLX0gWerk"
      },
      "source": [
        "В дополнение статья про метрики ранжирования: https://habr.com/ru/company/econtenta/blog/303458/"
      ]
    },
    {
      "cell_type": "markdown",
      "metadata": {
        "id": "B8HfoSp1qII3"
      },
      "source": [
        "Для оценки качества работы рекомендательных систем можно рассмотреть две специальные метрики **Hit Rate** (HR) и **Mean Reciprocal Rank** (MRR).\n",
        "\n",
        "Определим как **попадание** (**hit**) - ситуацию, когда фильм был рекомендован пользователю в топ-N и пользователь посмотрел его."
      ]
    },
    {
      "cell_type": "markdown",
      "metadata": {
        "id": "J-8qgQOTqII3"
      },
      "source": [
        "**Hit Rate (HR)**"
      ]
    },
    {
      "cell_type": "markdown",
      "metadata": {
        "id": "cfQ4RBISqII4"
      },
      "source": [
        "**Hit Rate (процент попаданий)** определяется как общее число попаданий, нормированное на количество пользователей.\n",
        "\n",
        "$$\n",
        "\\text{HR} = \\frac{1}{\\text{# test users}} \\sum_{\\text{test users}}{\\text{hit}}, \\quad\n",
        "$$\n",
        "\n",
        "Чем больше процент попаданий, тем лучше будет наша система рекомендаций."
      ]
    },
    {
      "cell_type": "markdown",
      "metadata": {
        "id": "z-aJuyi4qII4"
      },
      "source": [
        "*Замечание*: в некотором смысле, Hit Rate представляет собой производное от классических ML метрик precision и recall."
      ]
    },
    {
      "cell_type": "markdown",
      "metadata": {
        "id": "6wH3B2REqII4"
      },
      "source": [
        "**Mean Reciprocal Rank (MRR)**"
      ]
    },
    {
      "cell_type": "markdown",
      "metadata": {
        "id": "Gks8olUtqII5"
      },
      "source": [
        "Отличие метрики **Mean Reciprocal Rank** от предыдущей в том, что мы учитываем не общее количество попаданий, а обратное рангу (месту в списке рекомендаций) **первое попадание**. Например, если фильм, просмотренный пользователем (попадание), стоял на втором месте, обратное рангу будет равно $\\frac{1}{2}$, а если бы стоял на третьем - $\\frac{1}{3}$ и так далее."
      ]
    },
    {
      "cell_type": "markdown",
      "metadata": {
        "id": "LNyKYzWKqII5"
      },
      "source": [
        "$$\n",
        "\\text{MRR} = \\frac{1}{\\text{# test users}} \\sum_{\\text{test users}}{\\frac{1}{\\text{hit rank}}}\n",
        "$$"
      ]
    },
    {
      "cell_type": "markdown",
      "metadata": {
        "id": "fyYZY3MdqII6"
      },
      "source": [
        "Рассмотрим на примере. Toby получил следующий список рекомендаций:"
      ]
    },
    {
      "cell_type": "code",
      "execution_count": null,
      "metadata": {
        "id": "r9TwrXt3qII6"
      },
      "outputs": [],
      "source": [
        "getRecommendations(critics,'Toby', sim_pearson)"
      ]
    },
    {
      "cell_type": "markdown",
      "metadata": {
        "id": "Ls1y9QW-qII-"
      },
      "source": [
        "Допустим, после этого Toby посмотрел 5 фильмов и выставил им следующие оценки:\n"
      ]
    },
    {
      "cell_type": "markdown",
      "metadata": {
        "id": "ooxuag4TqII_"
      },
      "source": [
        "|Score|Film|\n",
        "|----|--------------------|\n",
        "|4.5 | The Departed |\n",
        "|4   | The Night Listener |\n",
        "|3.9 | Lady in the Water |\n",
        "|3.7 | The Firm |\n",
        "|3   | Just My Luck |"
      ]
    },
    {
      "cell_type": "markdown",
      "metadata": {
        "id": "eBh6uE_lqII_"
      },
      "source": [
        "Как мы видим, только два фильма из списка рекомендаций попали в личный топ-3 Toby. Получается, что **попадание (hits)** у него 2.\n",
        "\n",
        "**HR = $\\dfrac{1}{1} * 2 = 2$**, так как выборка тестовых пользователей (test\\_users) состоит из одного Toby.  "
      ]
    },
    {
      "cell_type": "markdown",
      "metadata": {
        "id": "vVZsuE8dqII_"
      },
      "source": [
        "* **$\\frac{1}{hit\\_rank}$** для фильма The Night Listener - это $\\dfrac{1}{2}$\n",
        "* **$\\frac{1}{hit\\_rank}$** для фильма Lady in the Water - это $\\dfrac{1}{3}$\n",
        "\n",
        "Но фильм **The Night Listener** стоит выше в рейтинге Toby, чем **Lady in the Water**, поэтому:\n",
        "\n",
        "**MRR = $\\dfrac{1}{1}*\\dfrac{1}{2} = \\dfrac{1}{2}$**, так как, опять же, выборка тестовых пользователей (test\\_users) состоит из одного Toby.  "
      ]
    },
    {
      "cell_type": "markdown",
      "metadata": {
        "id": "QJmVZW0TxyqA"
      },
      "source": [
        "## Коллаборативная фильтрация по сходству объектов (Item-based collaborative filtering)"
      ]
    },
    {
      "cell_type": "markdown",
      "metadata": {
        "id": "dZAPvgpTxyqB"
      },
      "source": [
        "Мы реализовали механизм выдачи рекомендаций таким образом, что для создания набора данных необходимы оценки, выставленные каждым\n",
        "пользователем. Для нескольких тысяч людей это, возможно, и будет работать, но, когда речь идет о миллионах пользователей и товаров, сравнение каждого пользователя со всеми другими, а затем сравнение товаров, займет недопустимо много времени."
      ]
    },
    {
      "cell_type": "markdown",
      "metadata": {
        "id": "zis-eUSbxyqC"
      },
      "source": [
        "Техника, которую мы применяли до сих пор, называется **коллаборативной фильтрацией по схожести пользователей**. Альтернатива известна под названием **коллаборативная фильтрация по схожести образцов**."
      ]
    },
    {
      "cell_type": "markdown",
      "metadata": {
        "id": "r2xvZzNpxyqD"
      },
      "source": [
        "Основная идея процедуры фильтрации по схожести образцов заключается в том, чтобы для каждого образца заранее вычислить большинство похожих на него. Тогда для выдачи рекомендаций алгоритму достаточно будет найти те образцы, которым пользователь выставил наивысшие оценки, а затем сформировать список образцов, максимально похожих на эти.\n",
        "\n",
        "Отметим одно существенное отличие: хотя на первом шаге необходимо исследовать все данные, результаты сравнения образцов изменяются не так часто, как результаты сравнения пользователей."
      ]
    },
    {
      "cell_type": "markdown",
      "metadata": {
        "collapsed": true,
        "id": "_8Z0LEmBxyqE"
      },
      "source": [
        "Чтобы сравнивать образцы, нужно первым делом построить полный набор данных о похожих образцах. В первую очередь, нам нужно переделать словарь предпочтений критиков таким образом, чтобы теперь был словарь фильмов и их оценок:\n",
        "```python\n",
        "film_dict = {\n",
        "    'film_name_1':\n",
        "    {'critic_1': 'score_1',\n",
        "     'critic_2': 'score_2',\n",
        "     ...\n",
        "    },\n",
        "    ...\n",
        "}\n",
        "```\n",
        "Далее для каждого фильма посчитать наиболее похожие образцы и коэффициенты похожести для них. Для подсчета схожести будем использовать евклидово расстояние.\n",
        "\n"
      ]
    },
    {
      "cell_type": "code",
      "execution_count": null,
      "metadata": {
        "id": "oeJ1Iagp_-x2"
      },
      "outputs": [],
      "source": [
        "# обращаем матрицу предпочтений, чтобы строки соответствовали образцам\n",
        "def transformPrefs(critics_dict):\n",
        "\n",
        "    # инициилизируем новый словарь с фильмами и их оценками\n",
        "    result = {}\n",
        "\n",
        "    # для каждого критика в словаре\n",
        "    for person in critics_dict:\n",
        "\n",
        "        # для каждого оцененного им фильма\n",
        "        for item in critics_dict[person]:\n",
        "\n",
        "            # добавляем такой объект в словарь\n",
        "            result.setdefault(item, {})\n",
        "            # меняеи местами человека и предмет\n",
        "            result[item][person] = critics_dict[person][item]\n",
        "    return result"
      ]
    },
    {
      "cell_type": "code",
      "execution_count": null,
      "metadata": {
        "id": "7GoQj-_EAbxZ",
        "colab": {
          "base_uri": "https://localhost:8080/"
        },
        "outputId": "4ef9b3b2-424f-4a8c-8aa6-f539462254d2"
      },
      "outputs": [
        {
          "output_type": "stream",
          "name": "stdout",
          "text": [
            "{   'Just My Luck': {   'Claudia Puig': 3.0,\n",
            "                        'Gene Seymour': 1.5,\n",
            "                        'Lisa Rose': 3.0,\n",
            "                        'Mick LaSalle': 2.0},\n",
            "    'Lady in the Water': {   'Gene Seymour': 3.0,\n",
            "                             'Jack Matthews': 3.0,\n",
            "                             'Lisa Rose': 2.5,\n",
            "                             'Michael Phillips': 2.5,\n",
            "                             'Mick LaSalle': 3.0},\n",
            "    'Snakes on a Plane': {   'Claudia Puig': 3.5,\n",
            "                             'Gene Seymour': 3.5,\n",
            "                             'Jack Matthews': 4.0,\n",
            "                             'Lisa Rose': 3.5,\n",
            "                             'Michael Phillips': 3.0,\n",
            "                             'Mick LaSalle': 4.0,\n",
            "                             'Toby': 4.5},\n",
            "    'Superman Returns': {   'Claudia Puig': 4.0,\n",
            "                            'Gene Seymour': 5.0,\n",
            "                            'Jack Matthews': 5.0,\n",
            "                            'Lisa Rose': 3.5,\n",
            "                            'Michael Phillips': 3.5,\n",
            "                            'Mick LaSalle': 3.0,\n",
            "                            'Toby': 4.0},\n",
            "    'The Night Listener': {   'Claudia Puig': 4.5,\n",
            "                              'Gene Seymour': 3.0,\n",
            "                              'Jack Matthews': 3.0,\n",
            "                              'Lisa Rose': 3.0,\n",
            "                              'Michael Phillips': 4.0,\n",
            "                              'Mick LaSalle': 3.0},\n",
            "    'You, Me and Dupree': {   'Claudia Puig': 2.5,\n",
            "                              'Gene Seymour': 3.5,\n",
            "                              'Jack Matthews': 3.5,\n",
            "                              'Lisa Rose': 2.5,\n",
            "                              'Mick LaSalle': 2.0,\n",
            "                              'Toby': 1.0}}\n"
          ]
        }
      ],
      "source": [
        "pp.pprint (transformPrefs (critics))"
      ]
    },
    {
      "cell_type": "markdown",
      "metadata": {
        "id": "rR1-4woyAQDX"
      },
      "source": [
        "**Задание 1.1** Реализуйте функцию **calculateSimilarItems()**, которая делает сразу оба шага. На вход её нужно подать словарь с оценками критиков *critics* и число образцов, которые мы считаем наиболее похожими (остальные не выводим). Например, так `calculateSimilarItems(critics, n=10)`\n",
        "\n",
        "**Code 16:**"
      ]
    },
    {
      "cell_type": "code",
      "execution_count": null,
      "metadata": {
        "id": "XZgrlsnLApwg"
      },
      "outputs": [],
      "source": [
        "# Создать словарь, содержащий для каждого образца те образцы, которые больше всего похожи на него.\n",
        "def calculateSimilarItems(prefs, n=10):\n",
        "    films = transformPrefs(critics)\n",
        "    sim_films = dict()\n",
        "    for film in films:\n",
        "        sim_films[film] = topMatches(films, film, n, sim_distance)\n",
        "\n",
        "    return sim_films"
      ]
    },
    {
      "cell_type": "code",
      "execution_count": null,
      "metadata": {
        "id": "mcnJJQ9cxyqG"
      },
      "outputs": [],
      "source": [
        "itemsim = calculateSimilarItems(critics, n=3)"
      ]
    },
    {
      "cell_type": "code",
      "execution_count": null,
      "metadata": {
        "id": "PwUnCFgqxyqJ",
        "colab": {
          "base_uri": "https://localhost:8080/"
        },
        "outputId": "6ea3d67d-6b70-43f1-d615-8ba62cf0882a"
      },
      "outputs": [
        {
          "output_type": "stream",
          "name": "stdout",
          "text": [
            "{   'Just My Luck': [   'Lady in the Water',\n",
            "                        'You, Me and Dupree',\n",
            "                        'The Night Listener'],\n",
            "    'Lady in the Water': [   'You, Me and Dupree',\n",
            "                             'The Night Listener',\n",
            "                             'Snakes on a Plane'],\n",
            "    'Snakes on a Plane': [   'Lady in the Water',\n",
            "                             'The Night Listener',\n",
            "                             'Superman Returns'],\n",
            "    'Superman Returns': [   'Snakes on a Plane',\n",
            "                            'The Night Listener',\n",
            "                            'Lady in the Water'],\n",
            "    'The Night Listener': [   'Lady in the Water',\n",
            "                              'Snakes on a Plane',\n",
            "                              'Just My Luck'],\n",
            "    'You, Me and Dupree': [   'Lady in the Water',\n",
            "                              'Just My Luck',\n",
            "                              'The Night Listener']}\n"
          ]
        }
      ],
      "source": [
        "pp.pprint(itemsim)"
      ]
    },
    {
      "cell_type": "markdown",
      "metadata": {
        "id": "XajxbUimxyqM"
      },
      "source": [
        "Получили вложенный словарь с фильмами и их похожестью на другие фильмы."
      ]
    },
    {
      "cell_type": "markdown",
      "metadata": {
        "id": "fcsEaB_fxyqN"
      },
      "source": [
        "Теперь мы готовы выдавать рекомендации, пользуясь словарем данных о схожести образцов. По аналогии с тем, что мы уже делали, необходимо получить список всех образцов, которым пользователь выставлял оценки, найти похожие и взвесить их с учетом коэффициентов подобия (умножить оценку на коэффициент подобия)."
      ]
    },
    {
      "cell_type": "markdown",
      "metadata": {
        "id": "wmkuMQvaxyqP"
      },
      "source": [
        "Реализуйте этот механихм в функции **getRecommendedItems()**. На вход этой функци подается:\n",
        "* словарь с оценками пользователя (в нашем случае это словарь критиков, *critics*)\n",
        "* словарь с данными о схожести образцов, *itemsim*\n",
        "* имя критика, для которого строим рекомендации"
      ]
    },
    {
      "cell_type": "markdown",
      "metadata": {
        "id": "JaUsLOhqxyqP"
      },
      "source": [
        "Код, для того, чтобы получить рекомендации для пользователя Toby `getRecommendedItems(critics, itemsim, 'Toby')`\n",
        "\n",
        "**Code 17:**"
      ]
    },
    {
      "cell_type": "code",
      "execution_count": null,
      "metadata": {
        "id": "fjqscXrECsEK"
      },
      "outputs": [],
      "source": [
        "def getRecommendedItems(prefs, itemMatch, user):\n",
        "    # Берем фильмы, которые оценил пользователь\n",
        "    user_films = prefs[user]\n",
        "    # Берем фильмы и их оценки критиков\n",
        "    films = transformPrefs(prefs)\n",
        "    # Инициализируем словарь рек. фильмов с их предполагаемыми оценками,\n",
        "    # которые похожи на те что пользователь уже смотрел\n",
        "    rankings = dict()\n",
        "    for film in user_films:\n",
        "        max_wscore = 0\n",
        "        rec_film = ''\n",
        "        # Берем оцененный фильм и похожий фильм\n",
        "        for sim_film in itemMatch[film]:\n",
        "            # Если фильм оцененный пользователем, то пропускаем\n",
        "            if sim_film in user_films:\n",
        "                continue\n",
        "\n",
        "            # Считаем взвешанный коэф. подобия\n",
        "            score = sim_distance(films, film, sim_film)\n",
        "            wscore = user_films[film] * score\n",
        "            # Если взвешанная схожесть максимальна, то запоминаем\n",
        "            if wscore > max_wscore:\n",
        "                max_wscore = wscore\n",
        "                rec_film = sim_film\n",
        "\n",
        "        # Если схожесть есть, то сохраняем в рекомендации\n",
        "        if max_wscore:\n",
        "            rankings[rec_film] = user_films[film] * max_wscore\n",
        "\n",
        "    # Сортируем рекомендации\n",
        "    return dict(sorted(rankings.items(), reverse=True, key=lambda x: x[1]))"
      ]
    },
    {
      "cell_type": "code",
      "execution_count": null,
      "metadata": {
        "id": "bC-V0ovMxyqQ",
        "colab": {
          "base_uri": "https://localhost:8080/"
        },
        "outputId": "525aecec-70fe-4046-99db-d1b04b24420b"
      },
      "outputs": [
        {
          "output_type": "execute_result",
          "data": {
            "text/plain": [
              "{'The Night Listener': 4.042404937393152,\n",
              " 'Lady in the Water': 0.4494897427831781}"
            ]
          },
          "metadata": {},
          "execution_count": 52
        }
      ],
      "source": [
        "rec_films = getRecommendedItems(critics, itemsim, 'Toby')\n",
        "rec_films"
      ]
    },
    {
      "cell_type": "markdown",
      "metadata": {
        "id": "hSz7SSvUC6oT"
      },
      "source": [
        "Рекомендация получилась так себе. Ведь это просто ранжированный список фильмов, которые он не смотрел.\n",
        "\n",
        "\n",
        "**Задание 1.2**\n",
        "\n",
        "Давайте в рекомендацию будем включать только те фильмы, за которые прогнозируемый средний балл превышает средний балл за те фильмы, которые уже оценил критик."
      ]
    },
    {
      "cell_type": "code",
      "source": [
        "mean_score = np.mean(list(critics['Toby'].values()))\n",
        "roi_rec_films = {name: rec_films[name] for name in rec_films if rec_films[name] > mean_score}\n",
        "roi_rec_films"
      ],
      "metadata": {
        "colab": {
          "base_uri": "https://localhost:8080/"
        },
        "id": "OY80KnvMYSN3",
        "outputId": "3d990c42-2570-4eec-cd0b-9b60cf922bef"
      },
      "execution_count": null,
      "outputs": [
        {
          "output_type": "execute_result",
          "data": {
            "text/plain": [
              "{'The Night Listener': 4.042404937393152}"
            ]
          },
          "metadata": {},
          "execution_count": 64
        }
      ]
    }
  ],
  "metadata": {
    "colab": {
      "provenance": [],
      "collapsed_sections": [
        "r-pJHrR56MoH"
      ]
    },
    "kernelspec": {
      "display_name": "Python 3",
      "language": "python",
      "name": "python3"
    },
    "language_info": {
      "codemirror_mode": {
        "name": "ipython",
        "version": 3
      },
      "file_extension": ".py",
      "mimetype": "text/x-python",
      "name": "python",
      "nbconvert_exporter": "python",
      "pygments_lexer": "ipython3",
      "version": "3.7.5"
    },
    "name": "lesson11_recsys.ipynb"
  },
  "nbformat": 4,
  "nbformat_minor": 0
}